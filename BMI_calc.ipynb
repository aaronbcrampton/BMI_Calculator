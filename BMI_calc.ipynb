{
 "cells": [
  {
   "cell_type": "markdown",
   "id": "163f207b",
   "metadata": {},
   "source": [
    "# BMI Calculator\n"
   ]
  },
  {
   "cell_type": "code",
   "execution_count": 3,
   "id": "c3948b3a",
   "metadata": {},
   "outputs": [
    {
     "name": "stdout",
     "output_type": "stream",
     "text": [
      "Enter weight in pounds: 150\n",
      "Enter height in inches: 70\n",
      "Your BMI is :  21.520408163265305\n",
      "You are at a Normal weight.\n"
     ]
    }
   ],
   "source": [
    "def bmi_calc():\n",
    "    weight = int(input(\"Enter weight in pounds: \"))\n",
    "    height = int(input(\"Enter height in inches: \"))\n",
    "    BMI = (weight * 703)/(height*height)\n",
    "    print(\"Your BMI is : \" , BMI)\n",
    "    if BMI < 18.5:\n",
    "        print(\"You are Underweight.\")\n",
    "    elif BMI < 25:\n",
    "        print(\"You are at a Normal weight.\")\n",
    "    elif BMI < 30:\n",
    "        print(\"You are Overweight.\")\n",
    "    elif BMI < 35:\n",
    "        print(\"You are Obese.\")\n",
    "    elif BMI < 40:\n",
    "        print(\"You are Severely Obese.\")\n",
    "    else:\n",
    "        print(\"You are Morbidly Obese.\")\n",
    "\n",
    "\n",
    "bmi_calc()"
   ]
  },
  {
   "cell_type": "code",
   "execution_count": null,
   "id": "717aecb0",
   "metadata": {},
   "outputs": [],
   "source": []
  },
  {
   "cell_type": "code",
   "execution_count": null,
   "id": "e18e8731",
   "metadata": {},
   "outputs": [],
   "source": []
  }
 ],
 "metadata": {
  "kernelspec": {
   "display_name": "Python 3 (ipykernel)",
   "language": "python",
   "name": "python3"
  },
  "language_info": {
   "codemirror_mode": {
    "name": "ipython",
    "version": 3
   },
   "file_extension": ".py",
   "mimetype": "text/x-python",
   "name": "python",
   "nbconvert_exporter": "python",
   "pygments_lexer": "ipython3",
   "version": "3.11.3"
  }
 },
 "nbformat": 4,
 "nbformat_minor": 5
}
